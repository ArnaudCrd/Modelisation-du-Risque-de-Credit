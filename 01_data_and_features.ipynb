{
 "cells": [
  {
   "metadata": {},
   "cell_type": "markdown",
   "source": [
    "<center>\n",
    "    <h3>Arnaud Chéridi</h3>\n",
    "    <p>Étudiant en Master 2 Mathématiques Appliquées</p>\n",
    "    <p>Projet individuel : Modélisation du risque de crédit (cas IFRS 9)</p>\n",
    "    <p>Objectif : développer un modèle de PD (score > 65%) + LGD + simulation</p>\n",
    "</center>"
   ],
   "id": "8f7a9206e99bc25c"
  },
  {
   "metadata": {},
   "cell_type": "markdown",
   "source": "<center><h1>Projet : Modélisation du risque de crédit – Cas type IFRS 9</h1></center>",
   "id": "3d918e05784b719a"
  },
  {
   "metadata": {},
   "cell_type": "markdown",
   "source": "<center><h2> 1. Préparation des données et des variables <h2><center>",
   "id": "9c19679c2d0e70a5"
  },
  {
   "metadata": {},
   "cell_type": "markdown",
   "source": "## 0. Import des bibliothèques",
   "id": "8216ec6c1f327a75"
  },
  {
   "cell_type": "code",
   "id": "initial_id",
   "metadata": {
    "collapsed": true,
    "ExecuteTime": {
     "end_time": "2025-07-23T01:12:41.401454Z",
     "start_time": "2025-07-23T01:12:41.398162Z"
    }
   },
   "source": [
    "import pandas as pd\n",
    "import numpy as np"
   ],
   "outputs": [],
   "execution_count": 1
  },
  {
   "metadata": {},
   "cell_type": "markdown",
   "source": "## 1. Chargements des données",
   "id": "411e146498c23333"
  },
  {
   "metadata": {},
   "cell_type": "markdown",
   "source": "Ces fichiers correspondent aux différentes sources utilisées pour modéliser le risque de crédit (client actuel, historique, crédits précédents, etc.).",
   "id": "631cc3f1aafbc706"
  },
  {
   "metadata": {
    "ExecuteTime": {
     "end_time": "2025-07-23T01:12:41.492839Z",
     "start_time": "2025-07-23T01:12:41.491471Z"
    }
   },
   "cell_type": "code",
   "source": "data_path = 'data/'",
   "id": "5caf0ed4531a771d",
   "outputs": [],
   "execution_count": 2
  },
  {
   "metadata": {
    "ExecuteTime": {
     "end_time": "2025-07-23T01:12:56.063923Z",
     "start_time": "2025-07-23T01:12:41.500890Z"
    }
   },
   "cell_type": "code",
   "source": [
    "app_train = pd.read_csv(f'{data_path}/application_train.csv')\n",
    "app_test=pd.read_csv(f'{data_path}/application_test.csv')\n",
    "bureau = pd.read_csv(f'{data_path}/bureau.csv')\n",
    "bureau_balance = pd.read_csv(f'{data_path}/bureau_balance.csv')\n",
    "pos_cash_balance = pd.read_csv(f'{data_path}/POS_CASH_balance.csv')\n",
    "credit_card_balance = pd.read_csv(f'{data_path}/credit_card_balance.csv')\n",
    "previous_application = pd.read_csv(f'{data_path}/previous_application.csv')\n",
    "installments_payments = pd.read_csv(f'{data_path}/installments_payments.csv')"
   ],
   "id": "c2a5e67fd2334d73",
   "outputs": [],
   "execution_count": 3
  },
  {
   "metadata": {},
   "cell_type": "markdown",
   "source": "## 2. Aggrégation des données",
   "id": "67bc194d9a3aa91d"
  },
  {
   "metadata": {},
   "cell_type": "markdown",
   "source": "### 2.1 Bureau",
   "id": "9b099178726d8622"
  },
  {
   "metadata": {},
   "cell_type": "markdown",
   "source": "Aggrégation des données issues du bureau gérant les crédit externes.",
   "id": "c0bbcd67251a6a99"
  },
  {
   "metadata": {
    "ExecuteTime": {
     "end_time": "2025-07-23T01:12:57.024423Z",
     "start_time": "2025-07-23T01:12:56.079568Z"
    }
   },
   "cell_type": "code",
   "source": [
    "# Récupération de la clé externe et interne\n",
    "bureau_balance_group = bureau_balance.groupby('SK_ID_BUREAU').agg(\n",
    "    month_min = (\"MONTHS_BALANCE\", \"min\"),\n",
    "    month_max = (\"MONTHS_BALANCE\", \"max\"),\n",
    "    status_last = (\"STATUS\", \"last\")\n",
    ").reset_index()"
   ],
   "id": "f379469479a82ffc",
   "outputs": [],
   "execution_count": 4
  },
  {
   "metadata": {
    "ExecuteTime": {
     "end_time": "2025-07-23T01:12:59.983109Z",
     "start_time": "2025-07-23T01:12:57.039363Z"
    }
   },
   "cell_type": "code",
   "source": "bureau = bureau.merge(bureau_balance, on='SK_ID_BUREAU', how='left')",
   "id": "89ec1d5ed5f2dc6b",
   "outputs": [],
   "execution_count": 5
  },
  {
   "metadata": {
    "ExecuteTime": {
     "end_time": "2025-07-23T01:13:00.615195Z",
     "start_time": "2025-07-23T01:13:00.004338Z"
    }
   },
   "cell_type": "code",
   "source": "bureau[\"CREDIT_TYPE\"].unique()",
   "id": "afbb10c6ccd9e3a8",
   "outputs": [
    {
     "data": {
      "text/plain": [
       "array(['Consumer credit', 'Credit card', 'Mortgage', 'Car loan',\n",
       "       'Microloan', 'Loan for working capital replenishment',\n",
       "       'Loan for business development', 'Real estate loan',\n",
       "       'Unknown type of loan', 'Another type of loan',\n",
       "       'Cash loan (non-earmarked)', 'Loan for the purchase of equipment',\n",
       "       'Mobile operator loan', 'Interbank credit',\n",
       "       'Loan for purchase of shares (margin lending)'], dtype=object)"
      ]
     },
     "execution_count": 6,
     "metadata": {},
     "output_type": "execute_result"
    }
   ],
   "execution_count": 6
  },
  {
   "metadata": {
    "ExecuteTime": {
     "end_time": "2025-07-23T01:13:00.635057Z",
     "start_time": "2025-07-23T01:13:00.633654Z"
    }
   },
   "cell_type": "code",
   "source": [
    "# Création d'une liste de crédit avec le plus de risque\n",
    "risky_types = [\"Consumer credit\", \"Credit card\", \"Cash loan (non-earmarked)\", \"Microloan\"]"
   ],
   "id": "89fc5119b388b79f",
   "outputs": [],
   "execution_count": 7
  },
  {
   "metadata": {},
   "cell_type": "markdown",
   "source": [
    "On agrège les crédits passés de chaque client auprès d'autres établissements pour en extraire :\n",
    "- des volumes (nb_credits, total_credit_sum),\n",
    "- des risques (total_credit_debt, avg_debt_ratio, max_overdue),\n",
    "- des comportements (prolongations, types de crédits),\n",
    "- et une dynamique temporelle (ancienneté, activité).\n",
    "\n",
    "Ces indicateurs permettent de mieux évaluer la situation financière globale du client."
   ],
   "id": "b4936f249bcca7b3"
  },
  {
   "metadata": {
    "ExecuteTime": {
     "end_time": "2025-07-23T01:14:12.068674Z",
     "start_time": "2025-07-23T01:13:00.652299Z"
    }
   },
   "cell_type": "code",
   "source": [
    "bureau_agg = bureau.groupby('SK_ID_CURR').agg(\n",
    "    nb_credits=(\"SK_ID_BUREAU\", \"count\"),\n",
    "    total_credit_sum=(\"AMT_CREDIT_SUM\", \"sum\"),\n",
    "    total_credit_debt=(\"AMT_CREDIT_SUM_DEBT\", \"sum\"),\n",
    "    avg_credit_amount=(\"AMT_CREDIT_SUM\", \"mean\"),\n",
    "    avg_debt_ratio=(\"AMT_CREDIT_SUM_DEBT\", lambda debt: (debt / bureau.loc[debt.index, \"AMT_CREDIT_SUM\"]).replace([np.inf, -np.inf], np.nan).mean()),\n",
    "    max_overdue=(\"AMT_CREDIT_SUM_OVERDUE\", \"max\"),\n",
    "    mean_days_credit=(\"DAYS_CREDIT\", \"mean\"),\n",
    "    min_days_credit=(\"DAYS_CREDIT\", \"min\"),\n",
    "    nb_prolongs=(\"CNT_CREDIT_PROLONG\", \"sum\"),\n",
    "    avg_annuity=(\"AMT_ANNUITY\", \"mean\"),\n",
    "    nb_credits_active=(\"CREDIT_ACTIVE\", lambda x: (x == \"Active\").sum()),\n",
    "    nb_credits_closed=(\"CREDIT_ACTIVE\", lambda x: (x == \"Closed\").sum()),\n",
    "\tpart_credits_risked=(\"CREDIT_TYPE\", lambda x: x.isin(risky_types).mean()),\n",
    ").reset_index()"
   ],
   "id": "ee7f2e4bc7664a71",
   "outputs": [],
   "execution_count": 8
  },
  {
   "metadata": {},
   "cell_type": "markdown",
   "source": "### 2.2 Installments_payments",
   "id": "dd94ded4458722ad"
  },
  {
   "metadata": {},
   "cell_type": "markdown",
   "source": [
    "On regroupe les échéances de chaque crédit pour calculer :\n",
    "- les montants dus/payés,\n",
    "- les retards moyens et extrêmes,\n",
    "- la fréquence des paiements manquants,\n",
    "- ainsi que le taux de remboursement global.\n",
    "\n",
    "Ces variables reflètent la régularité du client dans le remboursement de ses crédits passés."
   ],
   "id": "cd15c9647b01fe0d"
  },
  {
   "metadata": {
    "ExecuteTime": {
     "end_time": "2025-07-23T01:19:24.407666Z",
     "start_time": "2025-07-23T01:14:12.090338Z"
    }
   },
   "cell_type": "code",
   "source": [
    "inst_by_credit = installments_payments.groupby(\"SK_ID_PREV\").agg(\n",
    "    SK_ID_CURR=(\"SK_ID_CURR\", \"first\"),\n",
    "    total_due=(\"AMT_INSTALMENT\", \"sum\"),\n",
    "    total_paid=(\"AMT_PAYMENT\", \"sum\"),\n",
    "    nb_paiements=(\"SK_ID_PREV\", \"count\"),\n",
    "    retard_moyen=(\"DAYS_ENTRY_PAYMENT\", lambda x: (x - installments_payments.loc[x.index, \"DAYS_INSTALMENT\"]).mean()),\n",
    "    retards_proportion=(\"DAYS_ENTRY_PAYMENT\", lambda x: (x > installments_payments.loc[x.index, \"DAYS_INSTALMENT\"]).mean()),\n",
    "    max_retard=(\"DAYS_ENTRY_PAYMENT\", lambda x: (x - installments_payments.loc[x.index, \"DAYS_INSTALMENT\"]).max()),\n",
    "    paiements_manquants=(\"AMT_PAYMENT\", lambda x: (x == 0).mean())\n",
    ")\n",
    "\n",
    "inst_by_credit[\"taux_remboursement\"] = inst_by_credit[\"total_paid\"] / inst_by_credit[\"total_due\"]"
   ],
   "id": "6b2cb5f1bb8930b3",
   "outputs": [],
   "execution_count": 9
  },
  {
   "metadata": {
    "ExecuteTime": {
     "end_time": "2025-07-23T01:19:24.428513Z",
     "start_time": "2025-07-23T01:19:24.425086Z"
    }
   },
   "cell_type": "code",
   "source": [
    "# Identification du nombre de ligne ou la capital est déja remboursé\n",
    "(inst_by_credit[\"total_due\"]==0).sum()"
   ],
   "id": "383c91ce2f1fe805",
   "outputs": [
    {
     "data": {
      "text/plain": [
       "np.int64(16)"
      ]
     },
     "execution_count": 10,
     "metadata": {},
     "output_type": "execute_result"
    }
   ],
   "execution_count": 10
  },
  {
   "metadata": {
    "ExecuteTime": {
     "end_time": "2025-07-23T01:19:24.452883Z",
     "start_time": "2025-07-23T01:19:24.450070Z"
    }
   },
   "cell_type": "code",
   "source": [
    "# Vérification pas d'erreur dans le report du montant total dû\n",
    "inst_by_credit[\"total_due\"].min()"
   ],
   "id": "7b3ada56cf13ffe9",
   "outputs": [
    {
     "data": {
      "text/plain": [
       "np.float64(0.0)"
      ]
     },
     "execution_count": 11,
     "metadata": {},
     "output_type": "execute_result"
    }
   ],
   "execution_count": 11
  },
  {
   "metadata": {
    "ExecuteTime": {
     "end_time": "2025-07-23T01:19:24.488866Z",
     "start_time": "2025-07-23T01:19:24.469546Z"
    }
   },
   "cell_type": "code",
   "source": [
    "# Suppression des lignes dont le capital est déja remboursé\n",
    "inst_by_credit = inst_by_credit[inst_by_credit[\"total_due\"] > 0]"
   ],
   "id": "e97aa53eb0739e5d",
   "outputs": [],
   "execution_count": 12
  },
  {
   "metadata": {},
   "cell_type": "markdown",
   "source": [
    "On passe du niveau crédit au niveau client en calculant des moyennes simples et pondérées (par le montant dû) :\n",
    "- pour les montants remboursés,\n",
    "- la ponctualité des paiements,\n",
    "- la fréquence des retards ou défauts.\n",
    "\n",
    "Cela permet de capturer la discipline de remboursement d’un client en tenant compte de l’importance financière de chaque crédit."
   ],
   "id": "f22da961208b5347"
  },
  {
   "metadata": {
    "ExecuteTime": {
     "end_time": "2025-07-23T01:21:04.500288Z",
     "start_time": "2025-07-23T01:19:24.508255Z"
    }
   },
   "cell_type": "code",
   "source": [
    "# On définit les poids : mensualité moyenne\n",
    "inst_by_credit[\"mean_due\"] = inst_by_credit[\"total_due\"] / inst_by_credit[\"nb_paiements\"]\n",
    "\n",
    "# Agrégation pondérée au niveau client\n",
    "inst_agg = inst_by_credit.groupby(\"SK_ID_CURR\").agg(\n",
    "    nb_credits=(\"SK_ID_CURR\", \"count\"),\n",
    "    montant_du_total=(\"total_due\", \"sum\"),\n",
    "    total_nb_paiements=(\"nb_paiements\", \"sum\"),\n",
    "    mean_due_moyen=(\"mean_due\", \"mean\"),\n",
    "    mean_due_pondere=(\"mean_due\", lambda x: np.average(x, weights=inst_by_credit.loc[x.index, \"total_due\"])),\n",
    "    montant_paye_total=(\"total_paid\", \"sum\"),\n",
    "    taux_remboursement_pondere=(\"taux_remboursement\", lambda x: np.average(x, weights=inst_by_credit.loc[x.index, \"total_due\"])),\n",
    "    retard_moyen_pondere=(\"retard_moyen\", lambda x: np.average(x, weights=inst_by_credit.loc[x.index, \"total_due\"])),\n",
    "    retards_proportion_pondere=(\"retards_proportion\", lambda x: np.average(x, weights=inst_by_credit.loc[x.index, \"total_due\"])),\n",
    "    max_retard=(\"max_retard\", \"max\"),  # non pondéré, car on garde le max\n",
    "    paiements_manquants_pondere=(\"paiements_manquants\", lambda x: np.average(x, weights=inst_by_credit.loc[x.index, \"total_due\"]))\n",
    ").reset_index()"
   ],
   "id": "7eeca8ddc8994c20",
   "outputs": [],
   "execution_count": 13
  },
  {
   "metadata": {},
   "cell_type": "markdown",
   "source": "### 2.3 Previous_application",
   "id": "98735828a6a7acdc"
  },
  {
   "metadata": {},
   "cell_type": "markdown",
   "source": [
    "On synthétise l’historique de demandes passées par client pour extraire :\n",
    "- des volumes (`nb_demandes`, `nb_demandes_annulées`),\n",
    "- des indicateurs de risque ou de profil (`taux_refus`, `rapport_demande_accord`),\n",
    "- des comportements types (`type_credit_principal`, `délai_moyen_décision`).\n",
    "\n",
    "Ces variables aident à caractériser la relation passée du client avec le crédit, et à détecter les profils à haut risque."
   ],
   "id": "c5b6e4d4ab769ff4"
  },
  {
   "metadata": {
    "ExecuteTime": {
     "end_time": "2025-07-23T01:22:21.317836Z",
     "start_time": "2025-07-23T01:21:04.522806Z"
    }
   },
   "cell_type": "code",
   "source": [
    "prev_agg = previous_application.groupby(\"SK_ID_CURR\").agg(\n",
    "    nb_demandes=(\"SK_ID_PREV\", \"count\"),\n",
    "    taux_refus=(\"NAME_CONTRACT_STATUS\", lambda x: (x == \"Refused\").mean()),\n",
    "    montant_moyen_demande=(\"AMT_APPLICATION\", \"mean\"),\n",
    "    montant_moyen_accordé=(\"AMT_CREDIT\", \"mean\"),\n",
    "    rapport_demande_accord=(\"AMT_CREDIT\", lambda x: (x / previous_application.loc[x.index, \"AMT_APPLICATION\"].replace(0, np.nan)).mean()),\n",
    "    type_credit_principal=(\"NAME_CONTRACT_TYPE\", lambda x: x.mode().iloc[0] if not x.mode().empty else np.nan),\n",
    "    nb_demandes_annulees=(\"NAME_CONTRACT_STATUS\", lambda x: (x == \"Canceled\").sum()),\n",
    "    delai_moyen_decision=(\"DAYS_DECISION\", \"mean\"),\n",
    ").reset_index()"
   ],
   "id": "8aa827c7865b5662",
   "outputs": [],
   "execution_count": 14
  },
  {
   "metadata": {},
   "cell_type": "markdown",
   "source": "### 2.4 Credit_card_balance",
   "id": "ecdc5204962e6602"
  },
  {
   "metadata": {},
   "cell_type": "markdown",
   "source": [
    "On regroupe les informations d’utilisation de chaque carte de crédit pour évaluer :\n",
    "- l’intensité d’utilisation (solde, paiements, limite, taux d’utilisation),\n",
    "- le suivi dans le temps (durée d’observation, nb de mois),\n",
    "- la régularité des remboursements (`dpd`, retards).\n",
    "\n",
    "Ces indicateurs aident à détecter les comportements à risque liés à la gestion des crédits renouvelables."
   ],
   "id": "8a21a667440467ef"
  },
  {
   "metadata": {
    "ExecuteTime": {
     "end_time": "2025-07-23T01:22:38.979227Z",
     "start_time": "2025-07-23T01:22:21.337558Z"
    }
   },
   "cell_type": "code",
   "source": [
    "credit_card_by_card = credit_card_balance.groupby(\"SK_ID_PREV\").agg(\n",
    "    SK_ID_CURR=(\"SK_ID_CURR\", \"first\"),\n",
    "    nb_mois_activite=(\"MONTHS_BALANCE\", \"count\"),\n",
    "    duree_observation=(\"MONTHS_BALANCE\", lambda x: x.max() -  x.min() + 1),\n",
    "    solde_moyen=(\"AMT_BALANCE\", \"mean\"),\n",
    "    limite_moyenne=(\"AMT_CREDIT_LIMIT_ACTUAL\", \"mean\"),\n",
    "    taux_utilisation_moyen=(\"AMT_BALANCE\", lambda x: (\n",
    "        (x / credit_card_balance.loc[x.index, \"AMT_CREDIT_LIMIT_ACTUAL\"].replace(0, np.nan)).mean()\n",
    "    )),\n",
    "    paiement_moyen=(\"AMT_PAYMENT_TOTAL_CURRENT\", \"mean\"),\n",
    "    dpd_moyen=(\"SK_DPD\", \"mean\"),\n",
    "    dpd_max=(\"SK_DPD\", \"max\"),\n",
    "    depassement_freq=(\"SK_DPD\", lambda x: (x > 0).mean())\n",
    ").reset_index()"
   ],
   "id": "6fe09cdf2ffb569f",
   "outputs": [],
   "execution_count": 15
  },
  {
   "metadata": {
    "ExecuteTime": {
     "end_time": "2025-07-23T01:23:44.740766Z",
     "start_time": "2025-07-23T01:23:44.738374Z"
    }
   },
   "cell_type": "code",
   "source": [
    "# On s’assure que pour chaque carte, le nombre de mois d’activité correspond bien à la durée observée\n",
    "(credit_card_by_card[\"nb_mois_activite\"] == credit_card_by_card[\"duree_observation\"]).sum()/len(credit_card_by_card)"
   ],
   "id": "9dd3da3aa5948522",
   "outputs": [
    {
     "data": {
      "text/plain": [
       "np.float64(0.9998657808200792)"
      ]
     },
     "execution_count": 17,
     "metadata": {},
     "output_type": "execute_result"
    }
   ],
   "execution_count": 17
  },
  {
   "metadata": {
    "ExecuteTime": {
     "end_time": "2025-07-23T01:23:47.591964Z",
     "start_time": "2025-07-23T01:23:47.587189Z"
    }
   },
   "cell_type": "code",
   "source": [
    "# Vérification que la limite\n",
    "credit_card_by_card[\"limite_moyenne\"].max()"
   ],
   "id": "6820efcb45612482",
   "outputs": [
    {
     "data": {
      "text/plain": [
       "np.float64(1350000.0)"
      ]
     },
     "execution_count": 18,
     "metadata": {},
     "output_type": "execute_result"
    }
   ],
   "execution_count": 18
  },
  {
   "metadata": {
    "ExecuteTime": {
     "end_time": "2025-07-23T01:23:48.746379Z",
     "start_time": "2025-07-23T01:23:48.741763Z"
    }
   },
   "cell_type": "code",
   "source": [
    "# Vérification que la limite\n",
    "credit_card_by_card[\"limite_moyenne\"].min()"
   ],
   "id": "64ff26364c4070a1",
   "outputs": [
    {
     "data": {
      "text/plain": [
       "np.float64(0.0)"
      ]
     },
     "execution_count": 19,
     "metadata": {},
     "output_type": "execute_result"
    }
   ],
   "execution_count": 19
  },
  {
   "metadata": {
    "ExecuteTime": {
     "end_time": "2025-07-23T01:23:51.924851Z",
     "start_time": "2025-07-23T01:23:51.922389Z"
    }
   },
   "cell_type": "code",
   "source": [
    "# Mise en place d'une pondération\n",
    "credit_card_by_card[\"poids\"] = credit_card_by_card[\"nb_mois_activite\"] * credit_card_by_card[\"limite_moyenne\"]"
   ],
   "id": "520478d5cc8e33d2",
   "outputs": [],
   "execution_count": 20
  },
  {
   "metadata": {
    "ExecuteTime": {
     "end_time": "2025-07-23T01:23:53.065180Z",
     "start_time": "2025-07-23T01:23:53.062432Z"
    }
   },
   "cell_type": "code",
   "source": "(credit_card_by_card[\"poids\"]==0).sum()",
   "id": "dcc01d7f15ae92ee",
   "outputs": [
    {
     "data": {
      "text/plain": [
       "np.int64(1173)"
      ]
     },
     "execution_count": 21,
     "metadata": {},
     "output_type": "execute_result"
    }
   ],
   "execution_count": 21
  },
  {
   "metadata": {
    "ExecuteTime": {
     "end_time": "2025-07-23T01:23:53.655309Z",
     "start_time": "2025-07-23T01:23:53.652526Z"
    }
   },
   "cell_type": "code",
   "source": "credit_card_by_card[\"poids\"].min()",
   "id": "3a761844b20e8656",
   "outputs": [
    {
     "data": {
      "text/plain": [
       "np.float64(0.0)"
      ]
     },
     "execution_count": 22,
     "metadata": {},
     "output_type": "execute_result"
    }
   ],
   "execution_count": 22
  },
  {
   "metadata": {
    "ExecuteTime": {
     "end_time": "2025-07-23T01:23:54.763759Z",
     "start_time": "2025-07-23T01:23:54.755733Z"
    }
   },
   "cell_type": "code",
   "source": [
    "# Suppression des poids nuls\n",
    "credit_card_by_card = credit_card_by_card[credit_card_by_card[\"poids\"] > 0]"
   ],
   "id": "cb393df8a990c1a6",
   "outputs": [],
   "execution_count": 23
  },
  {
   "metadata": {},
   "cell_type": "markdown",
   "source": [
    "On agrège les informations par client en tenant compte du \"poids\" de chaque carte (durée × limite) :\n",
    "- exposition totale et nombre de cartes,\n",
    "- moyenne pondérée des soldes, limites, taux d'utilisation et retards,\n",
    "- mesure de risque maximale (`dpd_max`).\n",
    "\n",
    "Cette pondération permet de mieux refléter l’impact des cartes les plus actives ou importantes."
   ],
   "id": "b2bb68413bc047dd"
  },
  {
   "metadata": {
    "ExecuteTime": {
     "end_time": "2025-07-23T01:25:02.254268Z",
     "start_time": "2025-07-23T01:24:31.986472Z"
    }
   },
   "cell_type": "code",
   "source": [
    "credit_card_agg = credit_card_by_card.groupby(\"SK_ID_CURR\").agg(\n",
    "    nb_cartes=(\"SK_ID_PREV\", \"count\"),\n",
    "    exposition_totale=(\"poids\", \"sum\"),\n",
    "    total_duree_cartes=(\"duree_observation\", \"sum\"),\n",
    "\n",
    "    solde_pondere=(\"solde_moyen\", lambda x: np.average(\n",
    "        x, weights=credit_card_by_card.loc[x.index, \"poids\"]\n",
    "    )),\n",
    "\n",
    "    limite_ponderee=(\"limite_moyenne\", lambda x: np.average(\n",
    "        x, weights=credit_card_by_card.loc[x.index, \"poids\"]\n",
    "    )),\n",
    "\n",
    "    taux_utilisation_pondere=(\"taux_utilisation_moyen\", lambda x: np.average(\n",
    "        x, weights=credit_card_by_card.loc[x.index, \"poids\"]\n",
    "    )),\n",
    "\n",
    "    dpd_moyen_pondere=(\"dpd_moyen\", lambda x: np.average(\n",
    "        x, weights=credit_card_by_card.loc[x.index, \"poids\"]\n",
    "    )),\n",
    "\n",
    "    depassement_freq_ponderee=(\"depassement_freq\", lambda x: np.average(\n",
    "        x, weights=credit_card_by_card.loc[x.index, \"poids\"]\n",
    "    )),\n",
    "\n",
    "    dpd_max=(\"dpd_max\", \"max\")\n",
    ").reset_index()"
   ],
   "id": "f260f0b73301d73f",
   "outputs": [],
   "execution_count": 24
  },
  {
   "metadata": {},
   "cell_type": "markdown",
   "source": "### 2.5 Posh_cash_balance",
   "id": "cd554d1813ef8543"
  },
  {
   "metadata": {},
   "cell_type": "markdown",
   "source": [
    "On calcule, en pondérant par durée × montant dû :\n",
    "- l’exposition totale aux crédits POS,\n",
    "- les retards moyens et extrêmes (`dpd`, `dpd_defaut`).\n",
    "\n",
    "Ces indicateurs permettent d’évaluer la gestion du crédit renouvelable, souvent associé à un risque accru de défaut."
   ],
   "id": "bbcc1ef1fd3e9603"
  },
  {
   "metadata": {
    "ExecuteTime": {
     "end_time": "2025-07-23T01:25:03.011023Z",
     "start_time": "2025-07-23T01:25:02.271277Z"
    }
   },
   "cell_type": "code",
   "source": [
    "pos_cash_by_credit = pos_cash_balance.groupby(\"SK_ID_PREV\").agg(\n",
    "    SK_ID_CURR=(\"SK_ID_CURR\", \"first\"),\n",
    "    duree_observation=(\"MONTHS_BALANCE\", \"count\"),\n",
    "    nb_echeances_totales=(\"CNT_INSTALMENT\", \"max\"),\n",
    "    dpd_moyen=(\"SK_DPD\", \"mean\"),\n",
    "    dpd_defaut_moyen=(\"SK_DPD_DEF\", \"mean\"),\n",
    "    dpd_max=(\"SK_DPD\", \"max\"),\n",
    "    dpd_defaut_max=(\"SK_DPD_DEF\", \"max\")\n",
    ").reset_index()"
   ],
   "id": "79ed3b39d63b31aa",
   "outputs": [],
   "execution_count": 25
  },
  {
   "metadata": {
    "ExecuteTime": {
     "end_time": "2025-07-23T01:25:03.034495Z",
     "start_time": "2025-07-23T01:25:03.032012Z"
    }
   },
   "cell_type": "code",
   "source": "(pos_cash_by_credit[\"nb_echeances_totales\"].isnull()).sum()",
   "id": "96fea74f569866d7",
   "outputs": [
    {
     "data": {
      "text/plain": [
       "np.int64(890)"
      ]
     },
     "execution_count": 26,
     "metadata": {},
     "output_type": "execute_result"
    }
   ],
   "execution_count": 26
  },
  {
   "metadata": {
    "ExecuteTime": {
     "end_time": "2025-07-23T01:25:03.065834Z",
     "start_time": "2025-07-23T01:25:03.063154Z"
    }
   },
   "cell_type": "code",
   "source": "(pos_cash_by_credit[\"duree_observation\"].isnull()).sum()",
   "id": "e56f0e3b31408b80",
   "outputs": [
    {
     "data": {
      "text/plain": [
       "np.int64(0)"
      ]
     },
     "execution_count": 27,
     "metadata": {},
     "output_type": "execute_result"
    }
   ],
   "execution_count": 27
  },
  {
   "metadata": {
    "ExecuteTime": {
     "end_time": "2025-07-23T01:25:03.094527Z",
     "start_time": "2025-07-23T01:25:03.091454Z"
    }
   },
   "cell_type": "code",
   "source": [
    "# Mise en place d'une pondération\n",
    "pos_cash_by_credit[\"poids\"] = (\n",
    "    pos_cash_by_credit[\"nb_echeances_totales\"]*\n",
    "    pos_cash_by_credit[\"duree_observation\"]\n",
    ")"
   ],
   "id": "ccc61b099736a3de",
   "outputs": [],
   "execution_count": 28
  },
  {
   "metadata": {
    "ExecuteTime": {
     "end_time": "2025-07-23T01:25:03.126581Z",
     "start_time": "2025-07-23T01:25:03.113113Z"
    }
   },
   "cell_type": "code",
   "source": [
    "# Suppression des lignes dont la pondération est nulle\n",
    "pos_cash_by_credit = pos_cash_by_credit[pos_cash_by_credit[\"nb_echeances_totales\"].isnull() == False]"
   ],
   "id": "38beddc33f77994e",
   "outputs": [],
   "execution_count": 29
  },
  {
   "metadata": {},
   "cell_type": "markdown",
   "source": [
    "On regroupe les crédits renouvelables POS au niveau client, en pondérant les indicateurs par l’exposition (durée × montant dû) :\n",
    "- nombre total de crédits POS,\n",
    "- exposition cumulée,\n",
    "- retards moyens et maximaux (`dpd`, `dpd_defaut`).\n",
    "\n",
    "Ces variables permettent de mesurer la pression financière liée à ce type de crédit, souvent plus risqué."
   ],
   "id": "8691d6ca9e1311fc"
  },
  {
   "metadata": {
    "ExecuteTime": {
     "end_time": "2025-07-23T01:25:43.758514Z",
     "start_time": "2025-07-23T01:25:03.150485Z"
    }
   },
   "cell_type": "code",
   "source": [
    "pos_cash_agg = pos_cash_by_credit.groupby(\"SK_ID_CURR\").agg(\n",
    "    nb_credits_pos=(\"SK_ID_PREV\", \"count\"),\n",
    "    exposition_pos=(\"poids\", \"sum\"),\n",
    "    dpd_moyen_pondere=(\"dpd_moyen\", lambda x: np.average(x, weights=pos_cash_by_credit.loc[x.index, \"poids\"])),\n",
    "    dpd_max=(\"dpd_max\", \"max\"),\n",
    "    dpd_defaut_moyen_pondere=(\"dpd_defaut_moyen\", lambda x: np.average(x, weights=pos_cash_by_credit.loc[x.index, \"poids\"])),\n",
    "    dpd_defaut_max=(\"dpd_defaut_max\", \"max\")\n",
    ").reset_index()"
   ],
   "id": "479fa44455527533",
   "outputs": [],
   "execution_count": 30
  },
  {
   "metadata": {},
   "cell_type": "markdown",
   "source": "### 2.6 Création d'une variable de LGD simulée",
   "id": "310f1a75c1ff69d8"
  },
  {
   "metadata": {},
   "cell_type": "markdown",
   "source": [
    "On approxime la Loss Given Default (LGD) pour chaque crédit précédent en calculant :\n",
    "\n",
    "- le taux de perte simulé `LGD_sim = 1 - (payment / instalment)` (censuré entre 0 et 1),\n",
    "- une moyenne pondérée par le montant dû (pour refléter l’importance de chaque échéance),\n",
    "- puis on fusionne ces estimations au niveau du crédit (`SK_ID_PREV`) avec les métadonnées (`AMT_CREDIT`, type de contrat...).\n",
    "\n",
    "On conserve uniquement les crédits pour lesquels on peut estimer une LGD valide (non nulle, non manquante)."
   ],
   "id": "a5f561c846b3a6e4"
  },
  {
   "metadata": {
    "ExecuteTime": {
     "end_time": "2025-07-23T01:26:45.032370Z",
     "start_time": "2025-07-23T01:25:43.783036Z"
    }
   },
   "cell_type": "code",
   "source": [
    "info_credit = previous_application[['SK_ID_CURR', 'SK_ID_PREV', 'NAME_CONTRACT_TYPE', 'AMT_CREDIT']]\n",
    "inst_lgd = installments_payments[[\"SK_ID_PREV\", \"AMT_PAYMENT\", \"AMT_INSTALMENT\"]].copy()\n",
    "inst_lgd[\"LGD_sim\"] = 1 - (inst_lgd[\"AMT_PAYMENT\"] / inst_lgd[\"AMT_INSTALMENT\"]).clip(lower=0, upper=1)\n",
    "inst_lgd = inst_lgd[inst_lgd[\"AMT_INSTALMENT\"] > 0]\n",
    "lgd_sim_agg = inst_lgd.groupby(\"SK_ID_PREV\").agg(\n",
    "    lgd_sim_moyen_pondere=(\"LGD_sim\", lambda x: np.average(x, weights=inst_lgd.loc[x.index, \"AMT_INSTALMENT\"])),\n",
    ").reset_index()\n",
    "info_credit = info_credit.merge(lgd_sim_agg, on=\"SK_ID_PREV\", how=\"left\")\n",
    "info_credit = info_credit[info_credit[\"lgd_sim_moyen_pondere\"].notna()]"
   ],
   "id": "96a2445eb579b001",
   "outputs": [],
   "execution_count": 31
  },
  {
   "metadata": {},
   "cell_type": "markdown",
   "source": [
    "On agrège les estimations de LGD au niveau du client (`SK_ID_CURR`),\n",
    "en créant une colonne par type de contrat (`Cash loans`, `Consumer loans`, etc.).\n",
    "\n",
    "Cela permet de capturer le risque de perte moyen pour chaque type de crédit contracté par le client."
   ],
   "id": "9bb31c3e1622304a"
  },
  {
   "metadata": {
    "ExecuteTime": {
     "end_time": "2025-07-23T01:26:45.244698Z",
     "start_time": "2025-07-23T01:26:45.059616Z"
    }
   },
   "cell_type": "code",
   "source": [
    "lgd_pivot = info_credit.pivot_table(\n",
    "    index=\"SK_ID_CURR\",\n",
    "    columns=\"NAME_CONTRACT_TYPE\",\n",
    "    values=\"lgd_sim_moyen_pondere\"\n",
    ")"
   ],
   "id": "444d976e2fc9fb4b",
   "outputs": [],
   "execution_count": 32
  },
  {
   "metadata": {},
   "cell_type": "markdown",
   "source": "### 2.7 Application",
   "id": "6d3f47d573390dd9"
  },
  {
   "metadata": {
    "ExecuteTime": {
     "end_time": "2025-07-23T01:26:45.342829Z",
     "start_time": "2025-07-23T01:26:45.265778Z"
    }
   },
   "cell_type": "code",
   "source": [
    "# Mise en place d'un marqueur\n",
    "app_train[\"dataset\"] = \"train\"\n",
    "app_test[\"dataset\"] = \"test\"\n",
    "\n",
    "# Regrouppement des fichiers train et test\n",
    "full_app = pd.concat([app_train, app_test], axis=0)"
   ],
   "id": "23285022956be9ac",
   "outputs": [],
   "execution_count": 33
  },
  {
   "metadata": {},
   "cell_type": "markdown",
   "source": [
    "On dérive des variables continues clés :\n",
    "- âge et ancienneté professionnelle (en années),\n",
    "- ratios d’endettement relatifs au revenu (`annuity/income`, `credit/income`),\n",
    "- ratio entre le crédit accordé et la valeur du bien (`credit/goods`).\n",
    "\n",
    "Ces indicateurs permettent de quantifier la soutenabilité financière et la stabilité du client."
   ],
   "id": "4f06c484bfd0f835"
  },
  {
   "metadata": {
    "ExecuteTime": {
     "end_time": "2025-07-23T01:26:45.372926Z",
     "start_time": "2025-07-23T01:26:45.368578Z"
    }
   },
   "cell_type": "code",
   "source": [
    "full_app[\"age\"] = -full_app[\"DAYS_BIRTH\"] / 365\n",
    "full_app[\"anciennete_emploi\"] = -full_app[\"DAYS_EMPLOYED\"] / 365\n",
    "full_app[\"ratio_annuity_income\"] = full_app[\"AMT_ANNUITY\"] / full_app[\"AMT_INCOME_TOTAL\"]\n",
    "full_app[\"ratio_credit_income\"] = full_app[\"AMT_CREDIT\"] / full_app[\"AMT_INCOME_TOTAL\"]\n",
    "full_app[\"ratio_credit_goods\"] = full_app[\"AMT_CREDIT\"] / full_app[\"AMT_GOODS_PRICE\"]"
   ],
   "id": "4a6a9abb97418168",
   "outputs": [],
   "execution_count": 34
  },
  {
   "metadata": {},
   "cell_type": "markdown",
   "source": [
    "On supprime :\n",
    "- des colonnes documentaires (`FLAG_DOCUMENT`) peu discriminantes,\n",
    "- des variables de redondance géographique ou temporelle,\n",
    "- des détails sur le logement ou le bâtiment souvent manquants ou non exploitables (`_AVG`, `_MODE`, `WALLSMATERIAL`, etc.).\n",
    "\n",
    "Cette étape permet de réduire la dimensionnalité et d’éviter le sur-apprentissage sur des variables peu robustes."
   ],
   "id": "5d683a33f54c64d7"
  },
  {
   "metadata": {
    "ExecuteTime": {
     "end_time": "2025-07-23T01:26:45.442449Z",
     "start_time": "2025-07-23T01:26:45.397701Z"
    }
   },
   "cell_type": "code",
   "source": [
    "cols_to_drop = [\n",
    "    # Flags documentaires\n",
    "    *[f\"FLAG_DOCUMENT_{i}\" for i in range(2, 22)],\n",
    "\n",
    "    # Infos bruitées / redondantes\n",
    "    \"DAYS_ID_PUBLISH\", \"DAYS_REGISTRATION\", \"FLAG_EMP_PHONE\",\n",
    "    \"WEEKDAY_APPR_PROCESS_START\", \"HOUR_APPR_PROCESS_START\",\n",
    "    \"LIVE_CITY_NOT_WORK_CITY\", \"REG_CITY_NOT_WORK_CITY\",\n",
    "    \"LIVE_REGION_NOT_WORK_REGION\", \"REG_REGION_NOT_WORK_REGION\",\n",
    "    \"REG_CITY_NOT_LIVE_CITY\", \"REG_REGION_NOT_LIVE_REGION\",\n",
    "\n",
    "    # Infos bâtiment / zone\n",
    "    *[col for col in full_app.columns if any(substr in col for substr in\n",
    "      [\"_AVG\", \"_MODE\", \"_MEDI\", \"WALLSMATERIAL\", \"FONDKAPREMONT\",\n",
    "       \"HOUSETYPE\", \"TOTALAREA\", \"EMERGENCYSTATE\"])]\n",
    "]\n",
    "\n",
    "full_app = full_app.drop(cols_to_drop, axis=1)"
   ],
   "id": "25c1175b4dea939a",
   "outputs": [],
   "execution_count": 35
  },
  {
   "metadata": {},
   "cell_type": "markdown",
   "source": "## 3. Regroupement des informations",
   "id": "1dbc39c10bfec452"
  },
  {
   "metadata": {},
   "cell_type": "markdown",
   "source": [
    "On renomme les colonnes agrégées avec un préfixe explicite (`bureau_`, `install_`, etc.) tout en conservant l’identifiant client.\n",
    "Puis, on fusionne toutes les données secondaires (crédit, POS, cartes, etc.) avec `full_app`."
   ],
   "id": "bc698459f2b13e33"
  },
  {
   "metadata": {
    "ExecuteTime": {
     "end_time": "2025-07-23T01:26:45.921048Z",
     "start_time": "2025-07-23T01:26:45.468656Z"
    }
   },
   "cell_type": "code",
   "source": [
    "def add_prefix_keep_id(df, prefix, id_col=\"SK_ID_CURR\"):\n",
    "    df_temp = df.copy()\n",
    "    id_series = df_temp[id_col]\n",
    "    df_prefixed = df_temp.drop(columns=id_col).add_prefix(f\"{prefix}_\")\n",
    "    df_prefixed[id_col] = id_series\n",
    "    return df_prefixed\n",
    "\n",
    "# Application aux différents fichiers agrégés\n",
    "bureau_agg      = add_prefix_keep_id(bureau_agg, \"bureau\")\n",
    "inst_agg        = add_prefix_keep_id(inst_agg, \"install\")\n",
    "prev_agg        = add_prefix_keep_id(prev_agg, \"prev\")\n",
    "credit_card_agg = add_prefix_keep_id(credit_card_agg, \"cc\")\n",
    "pos_cash_agg    = add_prefix_keep_id(pos_cash_agg, \"pos\")\n",
    "\n",
    "full_df = full_app.copy()\n",
    "\n",
    "full_df = full_df.merge(bureau_agg, on=\"SK_ID_CURR\", how=\"left\")\n",
    "full_df = full_df.merge(inst_agg, on=\"SK_ID_CURR\", how=\"left\")\n",
    "full_df = full_df.merge(prev_agg, on=\"SK_ID_CURR\", how=\"left\")\n",
    "full_df = full_df.merge(credit_card_agg, on=\"SK_ID_CURR\", how=\"left\")\n",
    "full_df = full_df.merge(pos_cash_agg, on=\"SK_ID_CURR\", how=\"left\")"
   ],
   "id": "6b3f38cac758758f",
   "outputs": [],
   "execution_count": 36
  },
  {
   "metadata": {},
   "cell_type": "markdown",
   "source": [
    "On attribue à chaque ligne de `full_app` la LGD moyenne simulée correspondant à :\n",
    "- son identifiant client (`SK_ID_CURR`),\n",
    "- et au type de crédit (`NAME_CONTRACT_TYPE`),\n",
    "\n",
    "en s’appuyant sur le tableau croisé `lgd_pivot` calculé précédemment.\n",
    "\n",
    "Cela permet d’enrichir chaque demande actuelle avec une estimation du risque de perte basée sur l’historique réel du client (ou de clients similaires)."
   ],
   "id": "e7a3afa81dc615ff"
  },
  {
   "metadata": {
    "ExecuteTime": {
     "end_time": "2025-07-23T01:26:46.651342Z",
     "start_time": "2025-07-23T01:26:45.952766Z"
    }
   },
   "cell_type": "code",
   "source": [
    "full_df[\"LGD_sim\"] = list(map(\n",
    "    lambda row:\n",
    "        lgd_pivot.at[row[0], row[1]]                     # récupère la valeur LGD pour (client, type contrat)\n",
    "        if row[0] in lgd_pivot.index and row[1] in lgd_pivot.columns  # si la combinaison existe\n",
    "        else np.nan,                                     # sinon on met NaN\n",
    "    zip(full_app[\"SK_ID_CURR\"], full_app[\"NAME_CONTRACT_TYPE\"])  # on crée un tuple (ID, type contrat) par ligne\n",
    "))"
   ],
   "id": "df59355abd16b39b",
   "outputs": [],
   "execution_count": 37
  },
  {
   "metadata": {},
   "cell_type": "markdown",
   "source": "## 4. Traitement des valeurs manquantes",
   "id": "6bbf86a24d63ddbf"
  },
  {
   "metadata": {},
   "cell_type": "markdown",
   "source": [
    "On calcule la proportion de valeurs manquantes pour chaque variable.\n",
    "Cela permet d’identifier les colonnes à traiter par imputation ou à supprimer avant modélisation."
   ],
   "id": "4113d9260ef08a98"
  },
  {
   "metadata": {
    "ExecuteTime": {
     "end_time": "2025-07-23T01:26:46.763039Z",
     "start_time": "2025-07-23T01:26:46.682962Z"
    }
   },
   "cell_type": "code",
   "source": [
    "missing_ratio = full_df.isnull().mean().sort_values(ascending=False)\n",
    "missing_ratio[missing_ratio > 0.0]"
   ],
   "id": "615a4731d89bc304",
   "outputs": [
    {
     "data": {
      "text/plain": [
       "cc_solde_pondere                0.712439\n",
       "cc_nb_cartes                    0.712439\n",
       "cc_exposition_totale            0.712439\n",
       "cc_dpd_max                      0.712439\n",
       "cc_depassement_freq_ponderee    0.712439\n",
       "                                  ...   \n",
       "AMT_GOODS_PRICE                 0.000780\n",
       "ratio_annuity_income            0.000101\n",
       "AMT_ANNUITY                     0.000101\n",
       "CNT_FAM_MEMBERS                 0.000006\n",
       "DAYS_LAST_PHONE_CHANGE          0.000003\n",
       "Length: 71, dtype: float64"
      ]
     },
     "execution_count": 38,
     "metadata": {},
     "output_type": "execute_result"
    }
   ],
   "execution_count": 38
  },
  {
   "metadata": {},
   "cell_type": "markdown",
   "source": [
    "1. Suppression de certaines variables inutiles ou redondantes (`bureau_avg_annuity`).\n",
    "2. Pour les colonnes issues des cartes de crédit (`cc_`) et `LG_sim`, on :\n",
    "   - crée un indicateur binaire de valeur manquante (`col_NA`) pour informer les modèles ;\n",
    "   - impute les valeurs par la médiane.\n",
    "3. Imputation ciblée sur certaines variables importantes (`OWN_CAR_AGE`, `EXT_SOURCE`, etc.) :\n",
    "   - par la médiane pour les variables numériques,\n",
    "   - par \"Unknown\" pour les catégories comme `OCCUPATION_TYPE`.\n",
    "\n",
    "Enfin, on applique une imputation automatique à toutes les colonnes restantes :\n",
    "   - **numériques** → médiane,\n",
    "   - **catégorielles** → `\"Unknown\"`.\n",
    "\n",
    "Ce traitement permet d'éviter les biais dus aux valeurs manquantes tout en informant le modèle sur leur présence."
   ],
   "id": "3a591413162b519e"
  },
  {
   "metadata": {
    "ExecuteTime": {
     "end_time": "2025-07-23T01:26:46.851244Z",
     "start_time": "2025-07-23T01:26:46.812228Z"
    }
   },
   "cell_type": "code",
   "source": [
    "# Suppression de la colonne bureau_avg_annuity\n",
    "full_df = full_df.drop(columns=[\"bureau_avg_annuity\"])"
   ],
   "id": "b32f903e2121d052",
   "outputs": [],
   "execution_count": 39
  },
  {
   "metadata": {
    "ExecuteTime": {
     "end_time": "2025-07-23T01:26:46.935064Z",
     "start_time": "2025-07-23T01:26:46.899038Z"
    }
   },
   "cell_type": "code",
   "source": [
    "# Étape 1 : identifier les colonnes commençant par \"cc_\"\n",
    "cc_cols = [col for col in full_df.columns if col.startswith(\"cc_\") or col.startswith(\"LGD\")]\n",
    "\n",
    "# Étape 2 : pour chaque colonne cc_\n",
    "for col in cc_cols:\n",
    "    # Crée une variable binaire indiquant si la valeur était manquante\n",
    "    full_df[f\"{col}_NA\"] = full_df[col].isnull().astype(int)\n",
    "\n",
    "    # Impute les NaN par la médiane\n",
    "    median_val = full_df[col].median()\n",
    "    full_df[col] = full_df[col].fillna(median_val)"
   ],
   "id": "807df6ef293c23af",
   "outputs": [],
   "execution_count": 40
  },
  {
   "metadata": {
    "ExecuteTime": {
     "end_time": "2025-07-23T01:26:46.993165Z",
     "start_time": "2025-07-23T01:26:46.987223Z"
    }
   },
   "cell_type": "code",
   "source": [
    "full_df[\"OWN_CAR_AGE_nan\"] = full_df[\"OWN_CAR_AGE\"].isna().astype(int)\n",
    "full_df[\"OWN_CAR_AGE\"] = full_df[\"OWN_CAR_AGE\"].fillna(full_df[\"OWN_CAR_AGE\"].median())"
   ],
   "id": "36d337c8cd6784ad",
   "outputs": [],
   "execution_count": 41
  },
  {
   "metadata": {
    "ExecuteTime": {
     "end_time": "2025-07-23T01:26:47.032792Z",
     "start_time": "2025-07-23T01:26:47.026433Z"
    }
   },
   "cell_type": "code",
   "source": [
    "full_df[\"EXT_SOURCE__nan\"] = full_df[\"EXT_SOURCE_1\"].isna().astype(int)\n",
    "full_df[\"EXT_SOURCE_1\"] = full_df[\"EXT_SOURCE_1\"].fillna(full_df[\"EXT_SOURCE_1\"].median())"
   ],
   "id": "86fd8a287a5dfb61",
   "outputs": [],
   "execution_count": 42
  },
  {
   "metadata": {
    "ExecuteTime": {
     "end_time": "2025-07-23T01:26:47.078396Z",
     "start_time": "2025-07-23T01:26:47.066658Z"
    }
   },
   "cell_type": "code",
   "source": "full_df[\"OCCUPATION_TYPE\"] = full_df[\"OCCUPATION_TYPE\"].fillna(\"Unknown\")",
   "id": "f743ab4eba5eb05",
   "outputs": [],
   "execution_count": 43
  },
  {
   "metadata": {
    "ExecuteTime": {
     "end_time": "2025-07-23T01:26:47.118Z",
     "start_time": "2025-07-23T01:26:47.111380Z"
    }
   },
   "cell_type": "code",
   "source": [
    "full_df[\"EXT_SOURCE_3_nan\"] = full_df[\"EXT_SOURCE_3\"].isna().astype(int)\n",
    "full_df[\"EXT_SOURCE_3\"] = full_df[\"EXT_SOURCE_3\"].fillna(full_df[\"EXT_SOURCE_3\"].median())"
   ],
   "id": "f0ff6cb3f41c8e27",
   "outputs": [],
   "execution_count": 44
  },
  {
   "metadata": {
    "ExecuteTime": {
     "end_time": "2025-07-23T01:26:47.413683Z",
     "start_time": "2025-07-23T01:26:47.151001Z"
    }
   },
   "cell_type": "code",
   "source": [
    "missing_cols = full_df.columns[full_df.isna().any()]\n",
    "\n",
    "for col in missing_cols:\n",
    "    if full_df[col].dtype in ['float64', 'int64']:\n",
    "        full_df[col] = full_df[col].fillna(full_df[col].median())\n",
    "    else:\n",
    "        full_df[col] = full_df[col].fillna(\"Unknown\")"
   ],
   "id": "af6fca708f9c38f7",
   "outputs": [],
   "execution_count": 45
  },
  {
   "metadata": {},
   "cell_type": "markdown",
   "source": "## 5. Finalisation des fichiers train et test prêts à la modélisation",
   "id": "a4b126d9c046020c"
  },
  {
   "metadata": {
    "ExecuteTime": {
     "end_time": "2025-07-23T01:26:47.774556Z",
     "start_time": "2025-07-23T01:26:47.445977Z"
    }
   },
   "cell_type": "code",
   "source": [
    "train_final = full_df[full_df[\"dataset\"] == \"train\"].drop(columns=\"dataset\").copy()\n",
    "test_final = full_df[full_df[\"dataset\"] == \"test\"].drop(columns=[\"dataset\", \"TARGET\"]).copy()"
   ],
   "id": "a8207f30a829c35f",
   "outputs": [],
   "execution_count": 46
  },
  {
   "metadata": {
    "ExecuteTime": {
     "end_time": "2025-07-23T01:26:57.537466Z",
     "start_time": "2025-07-23T01:26:47.810533Z"
    }
   },
   "cell_type": "code",
   "source": [
    "train_final.to_csv(\"data/train_final.csv\", index=False)\n",
    "test_final.to_csv(\"data/test_final.csv\", index=False)"
   ],
   "id": "d4fbe1c278849eef",
   "outputs": [],
   "execution_count": 47
  },
  {
   "metadata": {},
   "cell_type": "code",
   "outputs": [],
   "execution_count": null,
   "source": "",
   "id": "a1eb95226f54d0f5"
  }
 ],
 "metadata": {
  "kernelspec": {
   "display_name": "Python 3",
   "language": "python",
   "name": "python3"
  },
  "language_info": {
   "codemirror_mode": {
    "name": "ipython",
    "version": 2
   },
   "file_extension": ".py",
   "mimetype": "text/x-python",
   "name": "python",
   "nbconvert_exporter": "python",
   "pygments_lexer": "ipython2",
   "version": "2.7.6"
  }
 },
 "nbformat": 4,
 "nbformat_minor": 5
}
